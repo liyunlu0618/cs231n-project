{
 "cells": [
  {
   "cell_type": "code",
   "execution_count": null,
   "metadata": {},
   "outputs": [],
   "source": [
    "import sys\n",
    "import re\n",
    "import os\n",
    "import numpy as np\n",
    "import matplotlib.pyplot as plt\n",
    "%matplotlib inline\n",
    "from PIL import Image\n",
    "from tqdm import tqdm\n",
    "import time\n",
    "import pandas as pd\n",
    "\n",
    "# get training info\n",
    "info_df = pd.read_csv('all_data_info.csv')\n",
    "#print(info_df.size)\n",
    "info_dict = {}\n",
    "#outdir = '/home/shared/assignment3/self-portrait_small'\n",
    "for index, row in info_df.iterrows():\n",
    "    if row['genre'] not in info_dict:\n",
    "        info_dict[row['genre']] = 1\n",
    "    else:\n",
    "        info_dict[row['genre']] += 1\n",
    "\n",
    "print(info_dict)"
   ]
  },
  {
   "cell_type": "code",
   "execution_count": null,
   "metadata": {
    "scrolled": true
   },
   "outputs": [],
   "source": [
    "import matplotlib.pyplot as plt\n",
    "\n",
    "y_pos = range(len(info_dict.keys()))\n",
    "plt.bar(y_pos, info_dict.values(), align='center')\n",
    "plt.xticks(y_pos, info_dict.keys(), rotation=90)\n",
    "plt.ylabel('Number of Paintings')\n",
    "plt.title('Number of paintings available in each genre')\n",
    "plt.rcParams.update({'font.size': 60})\n",
    "#plt.rcParams['figure.figsize'] = (1)\n",
    "plt.show()"
   ]
  },
  {
   "cell_type": "code",
   "execution_count": null,
   "metadata": {},
   "outputs": [],
   "source": [
    "# get training info\n",
    "info_df = pd.read_csv('all_data_info.csv')\n",
    "#print(info_df.size)\n",
    "count = 0\n",
    "outdir = '/home/shared/assignment3/abstract_small'\n",
    "for index, row in info_df.iterrows():\n",
    "    if row['genre'] == 'abstract':\n",
    "        filename = row['new_filename']\n",
    "        count += 1\n",
    "        image = Image.open('/home/shared/assignment3/Painters-by-Numbers-v2/out/crops_small/%s'%filename)\n",
    "        if not os.path.isdir(outdir): os.makedirs(outdir)\n",
    "        print('%s/%s'%(outdir, filename))\n",
    "        image.save('%s/%s'%(outdir, filename), quality=100)\n",
    "print(count)\n",
    "\n"
   ]
  },
  {
   "cell_type": "code",
   "execution_count": null,
   "metadata": {},
   "outputs": [],
   "source": []
  }
 ],
 "metadata": {
  "kernelspec": {
   "display_name": "Python 3",
   "language": "python",
   "name": "python3"
  },
  "language_info": {
   "codemirror_mode": {
    "name": "ipython",
    "version": 3
   },
   "file_extension": ".py",
   "mimetype": "text/x-python",
   "name": "python",
   "nbconvert_exporter": "python",
   "pygments_lexer": "ipython3",
   "version": "3.6.4"
  }
 },
 "nbformat": 4,
 "nbformat_minor": 1
}
